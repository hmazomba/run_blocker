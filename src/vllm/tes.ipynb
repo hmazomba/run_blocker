{
 "cells": [
  {
   "cell_type": "code",
   "execution_count": 1,
   "metadata": {},
   "outputs": [
    {
     "ename": "ImportError",
     "evalue": "libcudart.so.11.0: cannot open shared object file: No such file or directory",
     "output_type": "error",
     "traceback": [
      "\u001b[0;31m---------------------------------------------------------------------------\u001b[0m",
      "\u001b[0;31mImportError\u001b[0m                               Traceback (most recent call last)",
      "\u001b[1;32m/home/hmazomba/projects/run_blocker/src/vllm/tes.ipynb Cell 1\u001b[0m line \u001b[0;36m1\n\u001b[0;32m----> <a href='vscode-notebook-cell://wsl%2Bubuntu/home/hmazomba/projects/run_blocker/src/vllm/tes.ipynb#W0sdnNjb2RlLXJlbW90ZQ%3D%3D?line=0'>1</a>\u001b[0m \u001b[39mfrom\u001b[39;00m \u001b[39mvllm\u001b[39;00m \u001b[39mimport\u001b[39;00m LLM\n\u001b[1;32m      <a href='vscode-notebook-cell://wsl%2Bubuntu/home/hmazomba/projects/run_blocker/src/vllm/tes.ipynb#W0sdnNjb2RlLXJlbW90ZQ%3D%3D?line=2'>3</a>\u001b[0m llm \u001b[39m=\u001b[39m LLM(model\u001b[39m=\u001b[39m\u001b[39m\"\u001b[39m\u001b[39m../../models/llama-2-13b-chat.Q4_K_M.gguf\u001b[39m\u001b[39m\"\u001b[39m)  \u001b[39m# Name or path of your model\u001b[39;00m\n\u001b[1;32m      <a href='vscode-notebook-cell://wsl%2Bubuntu/home/hmazomba/projects/run_blocker/src/vllm/tes.ipynb#W0sdnNjb2RlLXJlbW90ZQ%3D%3D?line=3'>4</a>\u001b[0m output \u001b[39m=\u001b[39m llm\u001b[39m.\u001b[39mgenerate(\u001b[39m\"\u001b[39m\u001b[39mHello, my name is\u001b[39m\u001b[39m\"\u001b[39m)\n",
      "File \u001b[0;32m~/miniconda3/envs/run_blocker/lib/python3.10/site-packages/vllm/__init__.py:3\u001b[0m\n\u001b[1;32m      1\u001b[0m \u001b[39m\"\"\"vLLM: a high-throughput and memory-efficient inference engine for LLMs\"\"\"\u001b[39;00m\n\u001b[0;32m----> 3\u001b[0m \u001b[39mfrom\u001b[39;00m \u001b[39mvllm\u001b[39;00m\u001b[39m.\u001b[39;00m\u001b[39mengine\u001b[39;00m\u001b[39m.\u001b[39;00m\u001b[39marg_utils\u001b[39;00m \u001b[39mimport\u001b[39;00m AsyncEngineArgs, EngineArgs\n\u001b[1;32m      4\u001b[0m \u001b[39mfrom\u001b[39;00m \u001b[39mvllm\u001b[39;00m\u001b[39m.\u001b[39;00m\u001b[39mengine\u001b[39;00m\u001b[39m.\u001b[39;00m\u001b[39masync_llm_engine\u001b[39;00m \u001b[39mimport\u001b[39;00m AsyncLLMEngine\n\u001b[1;32m      5\u001b[0m \u001b[39mfrom\u001b[39;00m \u001b[39mvllm\u001b[39;00m\u001b[39m.\u001b[39;00m\u001b[39mengine\u001b[39;00m\u001b[39m.\u001b[39;00m\u001b[39mllm_engine\u001b[39;00m \u001b[39mimport\u001b[39;00m LLMEngine\n",
      "File \u001b[0;32m~/miniconda3/envs/run_blocker/lib/python3.10/site-packages/vllm/engine/arg_utils.py:6\u001b[0m\n\u001b[1;32m      3\u001b[0m \u001b[39mfrom\u001b[39;00m \u001b[39mdataclasses\u001b[39;00m \u001b[39mimport\u001b[39;00m dataclass\n\u001b[1;32m      4\u001b[0m \u001b[39mfrom\u001b[39;00m \u001b[39mtyping\u001b[39;00m \u001b[39mimport\u001b[39;00m Optional, Tuple\n\u001b[0;32m----> 6\u001b[0m \u001b[39mfrom\u001b[39;00m \u001b[39mvllm\u001b[39;00m\u001b[39m.\u001b[39;00m\u001b[39mconfig\u001b[39;00m \u001b[39mimport\u001b[39;00m (CacheConfig, ModelConfig, ParallelConfig,\n\u001b[1;32m      7\u001b[0m                          SchedulerConfig)\n\u001b[1;32m     10\u001b[0m \u001b[39m@dataclass\u001b[39m\n\u001b[1;32m     11\u001b[0m \u001b[39mclass\u001b[39;00m \u001b[39mEngineArgs\u001b[39;00m:\n\u001b[1;32m     12\u001b[0m \u001b[39m    \u001b[39m\u001b[39m\"\"\"Arguments for vLLM engine.\"\"\"\u001b[39;00m\n",
      "File \u001b[0;32m~/miniconda3/envs/run_blocker/lib/python3.10/site-packages/vllm/config.py:8\u001b[0m\n\u001b[1;32m      6\u001b[0m \u001b[39mfrom\u001b[39;00m \u001b[39mvllm\u001b[39;00m\u001b[39m.\u001b[39;00m\u001b[39mlogger\u001b[39;00m \u001b[39mimport\u001b[39;00m init_logger\n\u001b[1;32m      7\u001b[0m \u001b[39mfrom\u001b[39;00m \u001b[39mvllm\u001b[39;00m\u001b[39m.\u001b[39;00m\u001b[39mtransformers_utils\u001b[39;00m\u001b[39m.\u001b[39;00m\u001b[39mconfig\u001b[39;00m \u001b[39mimport\u001b[39;00m get_config\n\u001b[0;32m----> 8\u001b[0m \u001b[39mfrom\u001b[39;00m \u001b[39mvllm\u001b[39;00m\u001b[39m.\u001b[39;00m\u001b[39mutils\u001b[39;00m \u001b[39mimport\u001b[39;00m get_cpu_memory\n\u001b[1;32m     10\u001b[0m logger \u001b[39m=\u001b[39m init_logger(\u001b[39m__name__\u001b[39m)\n\u001b[1;32m     12\u001b[0m _GB \u001b[39m=\u001b[39m \u001b[39m1\u001b[39m \u001b[39m<<\u001b[39m \u001b[39m30\u001b[39m\n",
      "File \u001b[0;32m~/miniconda3/envs/run_blocker/lib/python3.10/site-packages/vllm/utils.py:8\u001b[0m\n\u001b[1;32m      5\u001b[0m \u001b[39mimport\u001b[39;00m \u001b[39mpsutil\u001b[39;00m\n\u001b[1;32m      6\u001b[0m \u001b[39mimport\u001b[39;00m \u001b[39mtorch\u001b[39;00m\n\u001b[0;32m----> 8\u001b[0m \u001b[39mfrom\u001b[39;00m \u001b[39mvllm\u001b[39;00m \u001b[39mimport\u001b[39;00m cuda_utils\n\u001b[1;32m     11\u001b[0m \u001b[39mclass\u001b[39;00m \u001b[39mDevice\u001b[39;00m(enum\u001b[39m.\u001b[39mEnum):\n\u001b[1;32m     12\u001b[0m     GPU \u001b[39m=\u001b[39m enum\u001b[39m.\u001b[39mauto()\n",
      "\u001b[0;31mImportError\u001b[0m: libcudart.so.11.0: cannot open shared object file: No such file or directory"
     ]
    }
   ],
   "source": [
    "from vllm import LLM\n",
    "\n",
    "llm = LLM(model=\"../../models/llama-2-13b-chat.Q4_K_M.gguf\")  # Name or path of your model\n",
    "output = llm.generate(\"Hello, my name is\")\n",
    "print(output)"
   ]
  }
 ],
 "metadata": {
  "kernelspec": {
   "display_name": "run_blocker",
   "language": "python",
   "name": "python3"
  },
  "language_info": {
   "codemirror_mode": {
    "name": "ipython",
    "version": 3
   },
   "file_extension": ".py",
   "mimetype": "text/x-python",
   "name": "python",
   "nbconvert_exporter": "python",
   "pygments_lexer": "ipython3",
   "version": "3.10.13"
  }
 },
 "nbformat": 4,
 "nbformat_minor": 2
}
