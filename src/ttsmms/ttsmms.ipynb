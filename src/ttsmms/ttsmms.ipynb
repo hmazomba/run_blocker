{
 "cells": [
  {
   "cell_type": "code",
   "execution_count": 1,
   "metadata": {},
   "outputs": [
    {
     "name": "stdout",
     "output_type": "stream",
     "text": [
      "downloading eng from https://dl.fbaipublicfiles.com/mms/tts/eng.tar.gz\n",
      "extract all eng to ./data/eng\n",
      "Done\n"
     ]
    }
   ],
   "source": [
    "from ttsmms import download\n",
    "\n",
    "dir_path = download(\"eng\",\"./data\") # lang_code, dir for save model"
   ]
  },
  {
   "cell_type": "code",
   "execution_count": 2,
   "metadata": {},
   "outputs": [
    {
     "data": {
      "text/plain": [
       "'example.wav'"
      ]
     },
     "execution_count": 2,
     "metadata": {},
     "output_type": "execute_result"
    }
   ],
   "source": [
    "from ttsmms import TTS\n",
    "\n",
    "tts=TTS(dir_path) # or \"model_dir_path\" your path dir that extract a tar ball archive\n",
    "wav=tts.synthesis(\"Hello, Mr Mazomba\")\n",
    "# output:\n",
    "# {\n",
    "#    \"x\":array(wav array),\n",
    "#    \"sampling_rate\": 16000\n",
    "# }\n",
    "\n",
    "tts.synthesis(\"txt\",wav_path=\"example.wav\")\n",
    "# output: example.wav file"
   ]
  }
 ],
 "metadata": {
  "kernelspec": {
   "display_name": "quaternion",
   "language": "python",
   "name": "python3"
  },
  "language_info": {
   "codemirror_mode": {
    "name": "ipython",
    "version": 3
   },
   "file_extension": ".py",
   "mimetype": "text/x-python",
   "name": "python",
   "nbconvert_exporter": "python",
   "pygments_lexer": "ipython3",
   "version": "3.10.12"
  },
  "orig_nbformat": 4
 },
 "nbformat": 4,
 "nbformat_minor": 2
}
