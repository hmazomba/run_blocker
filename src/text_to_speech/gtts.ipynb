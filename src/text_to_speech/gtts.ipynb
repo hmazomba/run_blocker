{
 "cells": [
  {
   "cell_type": "code",
   "execution_count": 1,
   "metadata": {
    "notebookRunGroups": {
     "groupValue": "1"
    }
   },
   "outputs": [
    {
     "ename": "ModuleNotFoundError",
     "evalue": "No module named 'gtts'",
     "output_type": "error",
     "traceback": [
      "\u001b[0;31m---------------------------------------------------------------------------\u001b[0m",
      "\u001b[0;31mModuleNotFoundError\u001b[0m                       Traceback (most recent call last)",
      "\u001b[1;32m/home/hmazomba/projects/run_blocker/src/text_to_speech/gtts.ipynb Cell 1\u001b[0m line \u001b[0;36m1\n\u001b[0;32m----> <a href='vscode-notebook-cell://wsl%2Bubuntu/home/hmazomba/projects/run_blocker/src/text_to_speech/gtts.ipynb#W0sdnNjb2RlLXJlbW90ZQ%3D%3D?line=0'>1</a>\u001b[0m \u001b[39mfrom\u001b[39;00m \u001b[39mgtts\u001b[39;00m \u001b[39mimport\u001b[39;00m gTTS\n\u001b[1;32m      <a href='vscode-notebook-cell://wsl%2Bubuntu/home/hmazomba/projects/run_blocker/src/text_to_speech/gtts.ipynb#W0sdnNjb2RlLXJlbW90ZQ%3D%3D?line=1'>2</a>\u001b[0m \u001b[39mimport\u001b[39;00m \u001b[39mos\u001b[39;00m\n",
      "\u001b[0;31mModuleNotFoundError\u001b[0m: No module named 'gtts'"
     ]
    }
   ],
   "source": [
    "from gtts import gTTS\n",
    "import os"
   ]
  },
  {
   "cell_type": "code",
   "execution_count": null,
   "metadata": {},
   "outputs": [],
   "source": [
    "    llm_chain = LLMChain(...)\n",
    "\n",
    "def text_to_speech(input):\n",
    "    text = llm_chain.run(input)\n",
    "    tts = gTTS(text) \n",
    "    speech_file = \"speech.mp3\"\n",
    "    tts.save(speech_file)\n",
    "    os.system(\"mpg123 \" + speech_file)"
   ]
  }
 ],
 "metadata": {
  "kernelspec": {
   "display_name": "run_blocker",
   "language": "python",
   "name": "python3"
  },
  "language_info": {
   "codemirror_mode": {
    "name": "ipython",
    "version": 3
   },
   "file_extension": ".py",
   "mimetype": "text/x-python",
   "name": "python",
   "nbconvert_exporter": "python",
   "pygments_lexer": "ipython3",
   "version": "3.10.13"
  }
 },
 "nbformat": 4,
 "nbformat_minor": 2
}
