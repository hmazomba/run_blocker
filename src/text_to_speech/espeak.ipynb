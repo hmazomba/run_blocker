{
 "cells": [
  {
   "cell_type": "markdown",
   "metadata": {},
   "source": [
    "### For streaming, you can print the output in chunks and pipe to a streaming TTS tool like espeak:"
   ]
  },
  {
   "cell_type": "code",
   "execution_count": null,
   "metadata": {},
   "outputs": [],
   "source": [
    "llm_chain = LLMChain(...)\n",
    "\n",
    "def stream_speech(input):\n",
    "    for chunk in llm_chain.stream(input):\n",
    "        print(chunk)\n",
    "        os.system(\"espeak -ven+f5 -k5 -s150 --punct='<characters>'\")"
   ]
  }
 ],
 "metadata": {
  "language_info": {
   "name": "python"
  }
 },
 "nbformat": 4,
 "nbformat_minor": 2
}
