{
 "cells": [
  {
   "cell_type": "code",
   "execution_count": null,
   "metadata": {},
   "outputs": [],
   "source": [
    "from langchain.document_loaders.recursive_url_loader import RecursiveUrlLoader\n",
    "from langchain.document_loaders import DirectoryLoader\n",
    "from langchain.vectorstores import Chroma\n",
    "from langchain.text_splitter import CharacterTextSplitter\n",
    "from langchain.chains import RetrievalQA"
   ]
  },
  {
   "cell_type": "code",
   "execution_count": null,
   "metadata": {},
   "outputs": [],
   "source": [
    "\"\"\" pdf_loader = DirectoryLoader('../../training_data/', glob=\"**/*.pdf\")\n",
    "txt_loader = DirectoryLoader('../../training_data/', glob=\"**/*.txt\")\n",
    "word_loader = DirectoryLoader('../../training_data/', glob=\"**/*.docx\")\n",
    "csv_loader = DirectoryLoader('../../training_data/', glob=\"**/*.csv\") \"\"\""
   ]
  },
  {
   "cell_type": "code",
   "execution_count": null,
   "metadata": {},
   "outputs": [],
   "source": [
    "from bs4 import BeautifulSoup as Soup\n",
    "\n",
    "url = \"https://developers.hubspot.com/docs/cms/hubl\"\n",
    "recursive_url_loader = RecursiveUrlLoader(url=url, max_depth=200, extractor=lambda x: Soup(x, \"html.parser\").text)\n",
    "\n",
    "loaders = [recursive_url_loader]\n",
    "documents = []\n",
    "for loader in loaders:\n",
    "    documents.extend(loader.load())\n",
    "\n",
    "print(f\"Total number of documents: {len(documents)}\")"
   ]
  },
  {
   "cell_type": "code",
   "execution_count": null,
   "metadata": {},
   "outputs": [],
   "source": [
    "import os\n",
    "from dotenv import load_dotenv\n",
    "\n",
    "load_dotenv()\n",
    "huggingfacehub_api_key= os.getenv('HUGGINGFACEHUB_API_TOKEN')\n",
    "from langchain.text_splitter import CharacterTextSplitter\n",
    "from langchain.vectorstores import Chroma\n",
    "\n",
    "from langchain.embeddings import HuggingFaceEmbeddings"
   ]
  },
  {
   "cell_type": "code",
   "execution_count": null,
   "metadata": {},
   "outputs": [],
   "source": [
    "text_splitter = CharacterTextSplitter(chunk_size=1000, chunk_overlap=0)\n",
    "texts = text_splitter.split_documents(documents)\n",
    "texts = text_splitter.split_documents(documents)\n",
    "embeddings = HuggingFaceEmbeddings()"
   ]
  },
  {
   "cell_type": "code",
   "execution_count": null,
   "metadata": {},
   "outputs": [],
   "source": [
    "db = Chroma.from_documents(texts, embeddings, collection_name=\"hubspot_hubl_knowledge_base\")"
   ]
  },
  {
   "cell_type": "code",
   "execution_count": null,
   "metadata": {},
   "outputs": [],
   "source": [
    "from langchain.chat_models import ChatLiteLLM\n",
    "from langchain.prompts.chat import (\n",
    "    ChatPromptTemplate\n",
    ")"
   ]
  },
  {
   "cell_type": "code",
   "execution_count": null,
   "metadata": {},
   "outputs": [],
   "source": [
    "import os\n",
    "from dotenv import load_dotenv\n",
    "\n",
    "load_dotenv()\n",
    "from langchain.llms import Cohere\n",
    "cohere_api_key= os.getenv('COHERE_API_KEY')\n",
    "cohere_llm = ChatLiteLLM(model=\"command-nightly\")\n"
   ]
  },
  {
   "cell_type": "code",
   "execution_count": null,
   "metadata": {},
   "outputs": [],
   "source": [
    "import os\n",
    "from dotenv import load_dotenv\n",
    "\n",
    "load_dotenv()\n",
    "google_api_key= os.getenv('GOOGLE_API_KEY')\n",
    "chat = ChatLiteLLM(model=\"palm/chat-bison\")"
   ]
  },
  {
   "cell_type": "code",
   "execution_count": null,
   "metadata": {},
   "outputs": [],
   "source": [
    "hubl_docs_chain = RetrievalQA.from_chain_type(\n",
    "    llm=cohere_llm, chain_type=\"stuff\", retriever=db.as_retriever()\n",
    ")"
   ]
  },
  {
   "cell_type": "code",
   "execution_count": null,
   "metadata": {},
   "outputs": [],
   "source": [
    "# Import things that are needed generically\n",
    "from langchain.agents import initialize_agent, Tool\n",
    "from langchain.agents import AgentType\n",
    "from langchain.tools import BaseTool\n",
    "from langchain.utilities import PythonREPL\n",
    "from langchain.tools import DuckDuckGoSearchRun\n",
    "from langchain.agents import ZeroShotAgent, Tool, AgentExecutor\n",
    "from langchain.tools import DuckDuckGoSearchRun\n",
    "from langchain.tools import DuckDuckGoSearchRun \n",
    "from langchain.tools.file_management import (\n",
    "    ReadFileTool,\n",
    "    CopyFileTool,\n",
    "    DeleteFileTool,\n",
    "    MoveFileTool,\n",
    "    WriteFileTool,\n",
    "    ListDirectoryTool,\n",
    ")\n",
    "from langchain.tools import ShellTool\n",
    "from langchain.agents import load_tools"
   ]
  },
  {
   "cell_type": "code",
   "execution_count": null,
   "metadata": {},
   "outputs": [],
   "source": [
    "#DuckDuckGo Class\n",
    "duckduck_search = DuckDuckGoSearchRun()\n",
    "shell_tool = ShellTool()\n",
    "\n",
    "\n",
    "#Python REPL Class\n",
    "python_repl = PythonREPL()\n",
    "\n",
    "shell_tool = Tool(\n",
    "    name=\"shell\",\n",
    "    description=\"This tool gives you access to a system's shell. Can be used to run shell commands\",\n",
    "    func=shell_tool.run\n",
    ")\n",
    "\n",
    "\n",
    "#DuckDuckGo Tool\n",
    "duckduck_tool=Tool(\n",
    "        name = \"DuckDuckGo\",\n",
    "        func=duckduck_search.run,\n",
    "        description=\"useful for when you need to answer questions about current events. You should ask targeted questions\"\n",
    ")\n",
    "\n",
    "#Python REPL Agent Tool Class\n",
    "repl_tool = Tool(\n",
    "    name=\"python_repl\",\n",
    "    description=\"A Python shell. Use this to execute python commands. Input should be a valid python command. If you want to see the output of a value, you should print it out with `print(...)`.\",\n",
    "    func=python_repl.run\n",
    ")"
   ]
  },
  {
   "cell_type": "code",
   "execution_count": null,
   "metadata": {},
   "outputs": [],
   "source": [
    "tools = [\n",
    "    Tool(\n",
    "        name=\"HubL Docs\",\n",
    "        func=hubl_docs_chain.run,\n",
    "        description=\"Useful for when you need to answer questions about HubL. output should be code\",\n",
    "    ),\n",
    "    Tool(\n",
    "        name = \"DuckDuckGo\",\n",
    "        func=duckduck_search.run,\n",
    "        description=\"useful for when you need to answer questions about current events. You should ask targeted questions\"\n",
    "    ),\n",
    "    Tool(\n",
    "    name=\"shell\",\n",
    "    description=\"This tool gives you access to a system's shell. Can be used to run shell commands\",\n",
    "    func=shell_tool.run\n",
    "    )\n",
    "]"
   ]
  },
  {
   "cell_type": "code",
   "execution_count": null,
   "metadata": {},
   "outputs": [],
   "source": [
    "# Construct the agent. We will use the default agent type here.\n",
    "# See documentation for a full list of options.\n",
    "agent = initialize_agent(\n",
    "    tools, cohere_llm, agent=AgentType.ZERO_SHOT_REACT_DESCRIPTION, verbose=True\n",
    ")"
   ]
  },
  {
   "cell_type": "code",
   "execution_count": null,
   "metadata": {},
   "outputs": [],
   "source": [
    "agent.run(\n",
    "    \"What is HubL?\"\n",
    ")"
   ]
  }
 ],
 "metadata": {
  "kernelspec": {
   "display_name": "nosipho",
   "language": "python",
   "name": "python3"
  },
  "language_info": {
   "codemirror_mode": {
    "name": "ipython",
    "version": 3
   },
   "file_extension": ".py",
   "mimetype": "text/x-python",
   "name": "python",
   "nbconvert_exporter": "python",
   "pygments_lexer": "ipython3",
   "version": "3.10.13"
  }
 },
 "nbformat": 4,
 "nbformat_minor": 2
}
