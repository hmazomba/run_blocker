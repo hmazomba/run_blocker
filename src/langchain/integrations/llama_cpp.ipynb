{
 "cells": [
  {
   "cell_type": "code",
   "execution_count": 18,
   "metadata": {},
   "outputs": [],
   "source": [
    "from langchain import PromptTemplate, LLMChain\n",
    "from langchain.llms import LlamaCpp\n",
    "from langchain.callbacks.manager import CallbackManager\n",
    "from langchain.callbacks.streaming_stdout import StreamingStdOutCallbackHandler"
   ]
  },
  {
   "cell_type": "code",
   "execution_count": 19,
   "metadata": {},
   "outputs": [],
   "source": [
    "# Callbacks support token-wise streaming\n",
    "callback_manager = CallbackManager([StreamingStdOutCallbackHandler()])\n",
    "# Verbose is required to pass to the callback manager"
   ]
  },
  {
   "cell_type": "code",
   "execution_count": 20,
   "metadata": {},
   "outputs": [],
   "source": [
    "model_path = \"../../../../../Models/llama-2-7b-chat.ggmlv3.q8_0.bin\""
   ]
  },
  {
   "cell_type": "code",
   "execution_count": 21,
   "metadata": {},
   "outputs": [
    {
     "name": "stderr",
     "output_type": "stream",
     "text": [
      "llama.cpp: loading model from ../../../../../Models/llama-2-7b-chat.ggmlv3.q8_0.bin\n",
      "llama_model_load_internal: format     = ggjt v3 (latest)\n",
      "llama_model_load_internal: n_vocab    = 32000\n",
      "llama_model_load_internal: n_ctx      = 512\n",
      "llama_model_load_internal: n_embd     = 4096\n",
      "llama_model_load_internal: n_mult     = 256\n",
      "llama_model_load_internal: n_head     = 32\n",
      "llama_model_load_internal: n_head_kv  = 32\n",
      "llama_model_load_internal: n_layer    = 32\n",
      "llama_model_load_internal: n_rot      = 128\n",
      "llama_model_load_internal: n_gqa      = 1\n",
      "llama_model_load_internal: rnorm_eps  = 1.0e-06\n",
      "llama_model_load_internal: n_ff       = 11008\n",
      "llama_model_load_internal: freq_base  = 10000.0\n",
      "llama_model_load_internal: freq_scale = 1\n",
      "llama_model_load_internal: ftype      = 7 (mostly Q8_0)\n",
      "llama_model_load_internal: model size = 7B\n",
      "llama_model_load_internal: ggml ctx size =    0.08 MB\n",
      "llama_model_load_internal: mem required  = 7130.73 MB (+  256.00 MB per state)\n",
      "llama_new_context_with_model: kv self size  =  256.00 MB\n",
      "AVX = 1 | AVX2 = 1 | AVX512 = 0 | AVX512_VBMI = 0 | AVX512_VNNI = 0 | FMA = 1 | NEON = 0 | ARM_FMA = 0 | F16C = 1 | FP16_VA = 0 | WASM_SIMD = 0 | BLAS = 0 | SSE3 = 1 | VSX = 0 | \n"
     ]
    }
   ],
   "source": [
    "n_gpu_layers = 40  # Change this value based on your model and your GPU VRAM pool.\n",
    "n_batch = 512  # Should be between 1 and n_ctx, consider the amount of VRAM in your GPU.\n",
    "# Make sure the model path is correct for your system!\n",
    "llm = LlamaCpp(\n",
    "    model_path=model_path,\n",
    "    n_gpu_layers=n_gpu_layers,\n",
    "    n_batch=n_batch,\n",
    "    input={\"temperature\": 0.75, \"max_length\": 2000, \"top_p\": 1},\n",
    "    callback_manager=callback_manager,\n",
    "    verbose=True,\n",
    ")"
   ]
  },
  {
   "cell_type": "code",
   "execution_count": 22,
   "metadata": {},
   "outputs": [],
   "source": [
    "template = \"\"\"Question: {question}\n",
    "\n",
    "Answer: Let's work this out in a step by step way to be sure we have the right answer.\"\"\"\n",
    "\n",
    "prompt = PromptTemplate(template=template, input_variables=[\"question\"])"
   ]
  },
  {
   "cell_type": "code",
   "execution_count": 23,
   "metadata": {},
   "outputs": [],
   "source": [
    "llm_chain = LLMChain(prompt=prompt, llm=llm)"
   ]
  },
  {
   "cell_type": "code",
   "execution_count": 24,
   "metadata": {},
   "outputs": [
    {
     "name": "stdout",
     "output_type": "stream",
     "text": [
      " Here is how I will break down the question, \"What is AI safety?\" and explain it to you:\n",
      "Step 1: Definition of Artificial Intelligence (AI)\n",
      "* AI is a broader field that encompasses machine learning, natural language processing, computer vision, robotics, and more.\n",
      "* It involves creating machines or computer programs that can perform tasks that typically require human intelligence, such as understanding language, recognizing images, making decisions, and solving problems.\n",
      "Step 2: Definition of AI Safety\n",
      "* AI safety refers to the practices and measures taken to ensure that AI systems are designed and used in ways that minimize harm to people, society, and the environment.\n",
      "* It involves designing AI systems that are transparent, explainable, and controllable, and that can be safely integrated into various applications without causing unintended consequences.\n",
      "Step 3: Importance of AI Safety\n",
      "* As AI becomes more advanced and integrated into various aspects of life, the potential risks associated with it also increase.\n",
      "* Examples of potential risks include bias in decision-making, privacy violations, job displacement, autonomous weapons, and"
     ]
    },
    {
     "name": "stderr",
     "output_type": "stream",
     "text": [
      "\n",
      "llama_print_timings:        load time = 14669.39 ms\n",
      "llama_print_timings:      sample time =   164.10 ms /   256 runs   (    0.64 ms per token,  1560.04 tokens per second)\n",
      "llama_print_timings: prompt eval time = 14669.35 ms /    35 tokens (  419.12 ms per token,     2.39 tokens per second)\n",
      "llama_print_timings:        eval time = 110119.89 ms /   255 runs   (  431.84 ms per token,     2.32 tokens per second)\n",
      "llama_print_timings:       total time = 125583.66 ms\n"
     ]
    },
    {
     "data": {
      "text/plain": [
       "' Here is how I will break down the question, \"What is AI safety?\" and explain it to you:\\nStep 1: Definition of Artificial Intelligence (AI)\\n* AI is a broader field that encompasses machine learning, natural language processing, computer vision, robotics, and more.\\n* It involves creating machines or computer programs that can perform tasks that typically require human intelligence, such as understanding language, recognizing images, making decisions, and solving problems.\\nStep 2: Definition of AI Safety\\n* AI safety refers to the practices and measures taken to ensure that AI systems are designed and used in ways that minimize harm to people, society, and the environment.\\n* It involves designing AI systems that are transparent, explainable, and controllable, and that can be safely integrated into various applications without causing unintended consequences.\\nStep 3: Importance of AI Safety\\n* As AI becomes more advanced and integrated into various aspects of life, the potential risks associated with it also increase.\\n* Examples of potential risks include bias in decision-making, privacy violations, job displacement, autonomous weapons, and'"
      ]
     },
     "execution_count": 24,
     "metadata": {},
     "output_type": "execute_result"
    }
   ],
   "source": [
    "question = \"What is AI Safety?\"\n",
    "\n",
    "llm_chain.run(question)"
   ]
  }
 ],
 "metadata": {
  "kernelspec": {
   "display_name": "cedric",
   "language": "python",
   "name": "python3"
  },
  "language_info": {
   "codemirror_mode": {
    "name": "ipython",
    "version": 3
   },
   "file_extension": ".py",
   "mimetype": "text/x-python",
   "name": "python",
   "nbconvert_exporter": "python",
   "pygments_lexer": "ipython3",
   "version": "3.10.12"
  },
  "orig_nbformat": 4
 },
 "nbformat": 4,
 "nbformat_minor": 2
}
