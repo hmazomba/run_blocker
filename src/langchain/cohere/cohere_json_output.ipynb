{
 "cells": [
  {
   "cell_type": "markdown",
   "metadata": {},
   "source": [
    "# Cohere JSON Output"
   ]
  },
  {
   "cell_type": "markdown",
   "metadata": {},
   "source": [
    "## Load Dependencies"
   ]
  },
  {
   "cell_type": "code",
   "execution_count": 8,
   "metadata": {},
   "outputs": [],
   "source": [
    "from typing import List\n",
    "from langchain.output_parsers import PydanticOutputParser\n",
    "from langchain.prompts import PromptTemplate\n",
    "from langchain.pydantic_v1 import BaseModel, Field, validator\n",
    "import os\n",
    "from dotenv import load_dotenv\n",
    "\n",
    "# Load Cohere Model\n",
    "from langchain.llms import Cohere\n",
    "\n",
    "load_dotenv()\n",
    "cohere_api_key= os.getenv('COHERE_API_KEY')\n",
    "model = Cohere(cohere_api_key=cohere_api_key)\n",
    "from langchain.llms import Cohere\n"
   ]
  },
  {
   "cell_type": "code",
   "execution_count": 11,
   "metadata": {},
   "outputs": [],
   "source": [
    "class Answer(BaseModel):\n",
    "    answer: str = Field(description=\"Answer to a query\")"
   ]
  },
  {
   "cell_type": "code",
   "execution_count": 12,
   "metadata": {},
   "outputs": [
    {
     "data": {
      "text/plain": [
       "Answer(answer='A quaternion is a mathematical construct that represents a 3D rotation or orientation. It is a 4-component vector, where each component is a number representing a direction. The components are typically denoted as x, y, z, and w, or as i, j, k, and w, respectively. The 4th component, w, is the scalar component, which is the angle of rotation. The other components, x, y, and z, are the vector components, which represent the direction of the rotation axis. Quaternions are widely used in computer graphics, robotics, and other fields to represent 3D orientations and rotations.')"
      ]
     },
     "execution_count": 12,
     "metadata": {},
     "output_type": "execute_result"
    }
   ],
   "source": [
    "answer_query = \"Write code snippets in Rust that demonstrate basic syntax, control structures, and data types.\"\n",
    "\n",
    "parser = PydanticOutputParser(pydantic_object=Answer)\n",
    "\n",
    "prompt = PromptTemplate(\n",
    "    template=\"Answer the user query.\\n{format_instructions}\\n{query}\\n\",\n",
    "    input_variables=[\"query\"],\n",
    "    partial_variables={\"format_instructions\": parser.get_format_instructions()},\n",
    ")\n",
    "\n",
    "_input = prompt.format_prompt(query=answer_query)\n",
    "\n",
    "output = model(_input.to_string())\n",
    "\n",
    "parser.parse(output)"
   ]
  }
 ],
 "metadata": {
  "kernelspec": {
   "display_name": "nosipho",
   "language": "python",
   "name": "python3"
  },
  "language_info": {
   "codemirror_mode": {
    "name": "ipython",
    "version": 3
   },
   "file_extension": ".py",
   "mimetype": "text/x-python",
   "name": "python",
   "nbconvert_exporter": "python",
   "pygments_lexer": "ipython3",
   "version": "3.10.13"
  }
 },
 "nbformat": 4,
 "nbformat_minor": 2
}
