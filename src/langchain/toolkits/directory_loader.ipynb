{
 "cells": [
  {
   "cell_type": "code",
   "execution_count": 2,
   "metadata": {},
   "outputs": [],
   "source": [
    "from langchain.document_loaders.recursive_url_loader import RecursiveUrlLoader\n",
    "from langchain.document_loaders import DirectoryLoader"
   ]
  },
  {
   "cell_type": "code",
   "execution_count": 3,
   "metadata": {},
   "outputs": [],
   "source": [
    "pdf_loader = DirectoryLoader('../../../../data/', glob=\"**/*.pdf\")\n",
    "txt_loader = DirectoryLoader('../../../../data/', glob=\"**/*.txt\")\n",
    "word_loader = DirectoryLoader('../../../../data/', glob=\"**/*.docx\")\n",
    "csv_loader = DirectoryLoader('../../../../data/', glob=\"**/*.csv\")"
   ]
  },
  {
   "cell_type": "code",
   "execution_count": null,
   "metadata": {},
   "outputs": [],
   "source": [
    "from bs4 import BeautifulSoup as Soup\n",
    "\n",
    "url = \"https://sfia-online.org/en\"\n",
    "recursive_url_loader = RecursiveUrlLoader(url=url, max_depth=210, extractor=lambda x: Soup(x, \"html.parser\").text)\n",
    "\n",
    "loaders = [recursive_url_loader]\n",
    "documents = []\n",
    "for loader in loaders:\n",
    "    documents.extend(loader.load())\n",
    "\n",
    "print(f\"Total number of documents: {len(documents)}\")"
   ]
  }
 ],
 "metadata": {
  "kernelspec": {
   "display_name": "nosipho",
   "language": "python",
   "name": "python3"
  },
  "language_info": {
   "codemirror_mode": {
    "name": "ipython",
    "version": 3
   },
   "file_extension": ".py",
   "mimetype": "text/x-python",
   "name": "python",
   "nbconvert_exporter": "python",
   "pygments_lexer": "ipython3",
   "version": "3.10.13"
  }
 },
 "nbformat": 4,
 "nbformat_minor": 2
}
