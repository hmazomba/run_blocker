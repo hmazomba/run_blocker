{
 "cells": [
  {
   "cell_type": "code",
   "execution_count": 16,
   "metadata": {},
   "outputs": [],
   "source": [
    "import os\n",
    "from dotenv import load_dotenv\n",
    "\n",
    "load_dotenv()\n",
    "huggingfacehub_api_key= os.getenv('HUGGINGFACEHUB_API_TOKEN')"
   ]
  },
  {
   "cell_type": "code",
   "execution_count": 17,
   "metadata": {},
   "outputs": [],
   "source": [
    "from langchain.retrievers.web_research import WebResearchRetriever"
   ]
  },
  {
   "cell_type": "code",
   "execution_count": 20,
   "metadata": {},
   "outputs": [],
   "source": [
    "from langchain.vectorstores import Chroma\n",
    "from langchain.embeddings import GPT4AllEmbeddings"
   ]
  },
  {
   "cell_type": "code",
   "execution_count": 23,
   "metadata": {},
   "outputs": [
    {
     "name": "stderr",
     "output_type": "stream",
     "text": [
      "100%|██████████| 45.5M/45.5M [00:06<00:00, 7.18MiB/s]\n"
     ]
    },
    {
     "name": "stdout",
     "output_type": "stream",
     "text": [
      "Model downloaded at:  /home/hmazomba/.cache/gpt4all/ggml-all-MiniLM-L6-v2-f16.bin\n",
      "Unexpected exception formatting exception. Falling back to standard exception\n"
     ]
    },
    {
     "name": "stderr",
     "output_type": "stream",
     "text": [
      "Traceback (most recent call last):\n",
      "  File \"/home/hmazomba/miniconda3/envs/cedric/lib/python3.10/site-packages/langchain/vectorstores/chroma.py\", line 81, in __init__\n",
      "    import chromadb\n",
      "  File \"/home/hmazomba/miniconda3/envs/cedric/lib/python3.10/site-packages/chromadb/__init__.py\", line 4, in <module>\n",
      "    import chromadb.config\n",
      "  File \"/home/hmazomba/miniconda3/envs/cedric/lib/python3.10/site-packages/chromadb/config.py\", line 1, in <module>\n",
      "    from pydantic import BaseSettings\n",
      "  File \"/home/hmazomba/miniconda3/envs/cedric/lib/python3.10/site-packages/pydantic/__init__.py\", line 210, in __getattr__\n",
      "  File \"/home/hmazomba/miniconda3/envs/cedric/lib/python3.10/site-packages/pydantic/_migration.py\", line 289, in wrapper\n",
      "pydantic.errors.PydanticImportError: `BaseSettings` has been moved to the `pydantic-settings` package. See https://docs.pydantic.dev/2.2/migration/#basesettings-has-moved-to-pydantic-settings for more details.\n",
      "\n",
      "For further information visit https://errors.pydantic.dev/2.2/u/import-error\n",
      "\n",
      "During handling of the above exception, another exception occurred:\n",
      "\n",
      "Traceback (most recent call last):\n",
      "  File \"/home/hmazomba/miniconda3/envs/cedric/lib/python3.10/site-packages/IPython/core/interactiveshell.py\", line 3508, in run_code\n",
      "    exec(code_obj, self.user_global_ns, self.user_ns)\n",
      "  File \"/tmp/ipykernel_10152/3752522814.py\", line 1, in <module>\n",
      "    vectorstore = Chroma(embedding_function=GPT4AllEmbeddings(),persist_directory=\"./chroma_db_oai\")\n",
      "  File \"/home/hmazomba/miniconda3/envs/cedric/lib/python3.10/site-packages/langchain/vectorstores/chroma.py\", line 84, in __init__\n",
      "    raise ValueError(\n",
      "ValueError: Could not import chromadb python package. Please install it with `pip install chromadb`.\n",
      "\n",
      "During handling of the above exception, another exception occurred:\n",
      "\n",
      "Traceback (most recent call last):\n",
      "  File \"/home/hmazomba/miniconda3/envs/cedric/lib/python3.10/site-packages/IPython/core/interactiveshell.py\", line 2105, in showtraceback\n",
      "    stb = self.InteractiveTB.structured_traceback(\n",
      "  File \"/home/hmazomba/miniconda3/envs/cedric/lib/python3.10/site-packages/IPython/core/ultratb.py\", line 1428, in structured_traceback\n",
      "    return FormattedTB.structured_traceback(\n",
      "  File \"/home/hmazomba/miniconda3/envs/cedric/lib/python3.10/site-packages/IPython/core/ultratb.py\", line 1319, in structured_traceback\n",
      "    return VerboseTB.structured_traceback(\n",
      "  File \"/home/hmazomba/miniconda3/envs/cedric/lib/python3.10/site-packages/IPython/core/ultratb.py\", line 1191, in structured_traceback\n",
      "    formatted_exceptions += self.format_exception_as_a_whole(etype, evalue, etb, lines_of_context,\n",
      "  File \"/home/hmazomba/miniconda3/envs/cedric/lib/python3.10/site-packages/IPython/core/ultratb.py\", line 1087, in format_exception_as_a_whole\n",
      "    frames.append(self.format_record(record))\n",
      "  File \"/home/hmazomba/miniconda3/envs/cedric/lib/python3.10/site-packages/IPython/core/ultratb.py\", line 969, in format_record\n",
      "    frame_info.lines, Colors, self.has_colors, lvals\n",
      "  File \"/home/hmazomba/miniconda3/envs/cedric/lib/python3.10/site-packages/IPython/core/ultratb.py\", line 792, in lines\n",
      "    return self._sd.lines\n",
      "  File \"/home/hmazomba/miniconda3/envs/cedric/lib/python3.10/site-packages/stack_data/utils.py\", line 144, in cached_property_wrapper\n",
      "    value = obj.__dict__[self.func.__name__] = self.func(obj)\n",
      "  File \"/home/hmazomba/miniconda3/envs/cedric/lib/python3.10/site-packages/stack_data/core.py\", line 734, in lines\n",
      "    pieces = self.included_pieces\n",
      "  File \"/home/hmazomba/miniconda3/envs/cedric/lib/python3.10/site-packages/stack_data/utils.py\", line 144, in cached_property_wrapper\n",
      "    value = obj.__dict__[self.func.__name__] = self.func(obj)\n",
      "  File \"/home/hmazomba/miniconda3/envs/cedric/lib/python3.10/site-packages/stack_data/core.py\", line 681, in included_pieces\n",
      "    pos = scope_pieces.index(self.executing_piece)\n",
      "  File \"/home/hmazomba/miniconda3/envs/cedric/lib/python3.10/site-packages/stack_data/utils.py\", line 144, in cached_property_wrapper\n",
      "    value = obj.__dict__[self.func.__name__] = self.func(obj)\n",
      "  File \"/home/hmazomba/miniconda3/envs/cedric/lib/python3.10/site-packages/stack_data/core.py\", line 660, in executing_piece\n",
      "    return only(\n",
      "  File \"/home/hmazomba/miniconda3/envs/cedric/lib/python3.10/site-packages/executing/executing.py\", line 190, in only\n",
      "    raise NotOneValueFound('Expected one value, found 0')\n",
      "executing.executing.NotOneValueFound: Expected one value, found 0\n"
     ]
    }
   ],
   "source": [
    "vectorstore = Chroma(embedding_function=GPT4AllEmbeddings(),persist_directory=\"./chroma_db_oai\")"
   ]
  },
  {
   "cell_type": "code",
   "execution_count": 10,
   "metadata": {},
   "outputs": [
    {
     "ename": "NameError",
     "evalue": "name 'vectorstore' is not defined",
     "output_type": "error",
     "traceback": [
      "\u001b[0;31m---------------------------------------------------------------------------\u001b[0m",
      "\u001b[0;31mNameError\u001b[0m                                 Traceback (most recent call last)",
      "\u001b[1;32m/home/hmazomba/Projects/run_blocker/src/langchain/toolkits/webresearchretriever.ipynb Cell 5\u001b[0m line \u001b[0;36m3\n\u001b[1;32m      <a href='vscode-notebook-cell://wsl%2Bubuntu/home/hmazomba/Projects/run_blocker/src/langchain/toolkits/webresearchretriever.ipynb#W4sdnNjb2RlLXJlbW90ZQ%3D%3D?line=0'>1</a>\u001b[0m \u001b[39m# Initialize\u001b[39;00m\n\u001b[1;32m      <a href='vscode-notebook-cell://wsl%2Bubuntu/home/hmazomba/Projects/run_blocker/src/langchain/toolkits/webresearchretriever.ipynb#W4sdnNjb2RlLXJlbW90ZQ%3D%3D?line=1'>2</a>\u001b[0m web_research_retriever \u001b[39m=\u001b[39m WebResearchRetriever\u001b[39m.\u001b[39mfrom_llm(\n\u001b[0;32m----> <a href='vscode-notebook-cell://wsl%2Bubuntu/home/hmazomba/Projects/run_blocker/src/langchain/toolkits/webresearchretriever.ipynb#W4sdnNjb2RlLXJlbW90ZQ%3D%3D?line=2'>3</a>\u001b[0m     vectorstore\u001b[39m=\u001b[39mvectorstore,\n\u001b[1;32m      <a href='vscode-notebook-cell://wsl%2Bubuntu/home/hmazomba/Projects/run_blocker/src/langchain/toolkits/webresearchretriever.ipynb#W4sdnNjb2RlLXJlbW90ZQ%3D%3D?line=3'>4</a>\u001b[0m     llm\u001b[39m=\u001b[39mllm, \n\u001b[1;32m      <a href='vscode-notebook-cell://wsl%2Bubuntu/home/hmazomba/Projects/run_blocker/src/langchain/toolkits/webresearchretriever.ipynb#W4sdnNjb2RlLXJlbW90ZQ%3D%3D?line=4'>5</a>\u001b[0m     search\u001b[39m=\u001b[39msearch, \n\u001b[1;32m      <a href='vscode-notebook-cell://wsl%2Bubuntu/home/hmazomba/Projects/run_blocker/src/langchain/toolkits/webresearchretriever.ipynb#W4sdnNjb2RlLXJlbW90ZQ%3D%3D?line=5'>6</a>\u001b[0m )\n",
      "\u001b[0;31mNameError\u001b[0m: name 'vectorstore' is not defined"
     ]
    }
   ],
   "source": [
    "# Initialize\n",
    "web_research_retriever = WebResearchRetriever.from_llm(\n",
    "    vectorstore=vectorstore,\n",
    "    llm=llm, \n",
    "    search=search, \n",
    ")"
   ]
  }
 ],
 "metadata": {
  "kernelspec": {
   "display_name": "cedric",
   "language": "python",
   "name": "python3"
  },
  "language_info": {
   "codemirror_mode": {
    "name": "ipython",
    "version": 3
   },
   "file_extension": ".py",
   "mimetype": "text/x-python",
   "name": "python",
   "nbconvert_exporter": "python",
   "pygments_lexer": "ipython3",
   "version": "3.10.12"
  },
  "orig_nbformat": 4
 },
 "nbformat": 4,
 "nbformat_minor": 2
}
