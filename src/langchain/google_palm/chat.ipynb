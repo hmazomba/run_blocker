{
 "cells": [
  {
   "cell_type": "code",
   "execution_count": 4,
   "metadata": {},
   "outputs": [],
   "source": [
    "import os\n",
    "from dotenv import load_dotenv\n",
    "\n",
    "load_dotenv()\n",
    "google_api_key= os.getenv('GOOGLE_API_KEY')"
   ]
  },
  {
   "cell_type": "code",
   "execution_count": 5,
   "metadata": {},
   "outputs": [],
   "source": [
    "from langchain.embeddings import GooglePalmEmbeddings\n",
    "from langchain.llms import GooglePalm"
   ]
  },
  {
   "cell_type": "code",
   "execution_count": 7,
   "metadata": {},
   "outputs": [],
   "source": [
    "llm = GooglePalm()\n",
    "llm.temperature = 0.1\n",
    "\n",
    "prompts = [\"The opposite of hot is\",'The opposite of cold is'] # according to the class prmpts must be in list\n",
    "llm_result = llm._generate(prompts)"
   ]
  },
  {
   "cell_type": "code",
   "execution_count": 8,
   "metadata": {},
   "outputs": [
    {
     "data": {
      "text/plain": [
       "'cold'"
      ]
     },
     "execution_count": 8,
     "metadata": {},
     "output_type": "execute_result"
    }
   ],
   "source": [
    "llm_result.generations[0][0].text"
   ]
  },
  {
   "cell_type": "code",
   "execution_count": 9,
   "metadata": {},
   "outputs": [],
   "source": [
    "from langchain import PromptTemplate, LLMChain"
   ]
  },
  {
   "cell_type": "code",
   "execution_count": 11,
   "metadata": {},
   "outputs": [],
   "source": [
    "template = \"\"\"\n",
    "You are an artificial intelligence assistant who will assist Hlumisa Mazomba. You are asked to answer questions. The assistant gives helpful, detailed, and polite answers to the user's questions.\n",
    "\n",
    "{question}\n",
    "\n",
    "\"\"\""
   ]
  },
  {
   "cell_type": "code",
   "execution_count": 12,
   "metadata": {},
   "outputs": [],
   "source": [
    "prompt = PromptTemplate(template=template, input_variables=[\"question\"])\n",
    "llm_chain = LLMChain(prompt=prompt, llm=llm, verbose=True)"
   ]
  },
  {
   "cell_type": "code",
   "execution_count": 13,
   "metadata": {},
   "outputs": [
    {
     "name": "stdout",
     "output_type": "stream",
     "text": [
      "\n",
      "\n",
      "\u001b[1m> Entering new LLMChain chain...\u001b[0m\n",
      "Prompt after formatting:\n",
      "\u001b[32;1m\u001b[1;3m\n",
      "You are an artificial intelligence assistant who will assist Hlumisa Mazomba. You are asked to answer questions. The assistant gives helpful, detailed, and polite answers to the user's questions.\n",
      "\n",
      "What is a quaternion?\n",
      "\n",
      "\u001b[0m\n",
      "\n",
      "\u001b[1m> Finished chain.\u001b[0m\n",
      "A quaternion is a mathematical object that combines a scalar (real number) and a vector (a set of three numbers) into a single object. Quaternions are used in computer graphics, robotics, and other fields where it is necessary to represent rotations and other transformations in three-dimensional space.\n",
      "\n",
      "Quaternions are written in the form $q = a + bi + cj + dk$, where $a$, $b$, $c$, and $d$ are real numbers and $i$, $j$, and $k$ are imaginary numbers that satisfy the following relations:\n",
      "\n",
      "* $i^2 = j^2 = k^2 = -1$\n",
      "* $ij = -ji = k$\n",
      "* $jk = -kj = i$\n",
      "* $ki = -ik = j$\n",
      "\n",
      "Quaternions can be used to represent rotations in three-dimensional space by using the following formula:\n",
      "\n",
      "$$R = \\begin{bmatrix}\n",
      "1 - 2bj^2 - 2ck^2 & 2bi - 2cj - 2dk & 2ak - 2bl + 2cm \\\\\n",
      "2bi + 2cj - 2dk & 1 - 2ai^2 - 2ck^2 & 2bl - 2cm + 2ak \\\\\n",
      "2ak - 2bl + 2cm & 2bk + 2cl - 2am & 1 - 2ai^2 - 2bj^2\n",
      "\\end{bmatrix}$$\n",
      "\n",
      "where $R$ is the rotation matrix and $q$ is the quaternion representing the rotation.\n",
      "\n",
      "Quaternions are often used in computer graphics because they can represent rotations in a more compact way than other methods, such as Euler angles or rotation matrices. Quaternions are also more numerically stable than other methods, which makes them less likely to produce errors when they are used to perform calculations.\n",
      "\n",
      "Quaternions are also used in robotics to represent the orientation of a robot's end effector. This is because quaternions can represent rotations in a way that is independent of the coordinate system in which the rotation is being represented. This makes it possible to use quaternions to represent the orientation of a robot's end effector regardless of the orientation of the robot's base.\n"
     ]
    }
   ],
   "source": [
    "print(llm_chain.run('What is a quaternion?'))"
   ]
  }
 ],
 "metadata": {
  "kernelspec": {
   "display_name": "run_blocker",
   "language": "python",
   "name": "python3"
  },
  "language_info": {
   "codemirror_mode": {
    "name": "ipython",
    "version": 3
   },
   "file_extension": ".py",
   "mimetype": "text/x-python",
   "name": "python",
   "nbconvert_exporter": "python",
   "pygments_lexer": "ipython3",
   "version": "3.10.13"
  }
 },
 "nbformat": 4,
 "nbformat_minor": 2
}
