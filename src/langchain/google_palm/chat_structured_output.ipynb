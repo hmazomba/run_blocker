{
 "cells": [
  {
   "cell_type": "code",
   "execution_count": 31,
   "metadata": {},
   "outputs": [],
   "source": [
    "import os\n",
    "from dotenv import load_dotenv\n",
    "\n",
    "load_dotenv()\n",
    "google_api_key= os.getenv('GOOGLE_API_KEY')"
   ]
  },
  {
   "cell_type": "code",
   "execution_count": 32,
   "metadata": {},
   "outputs": [],
   "source": [
    "from langchain.embeddings import GooglePalmEmbeddings\n",
    "from langchain.llms import GooglePalm"
   ]
  },
  {
   "cell_type": "code",
   "execution_count": 33,
   "metadata": {},
   "outputs": [],
   "source": [
    "llm = GooglePalm()\n",
    "llm.temperature = 0.1\n",
    "\n",
    "prompts = [\"The opposite of hot is\",'The opposite of cold is'] # according to the class prmpts must be in list\n",
    "llm_result = llm._generate(prompts)"
   ]
  },
  {
   "cell_type": "code",
   "execution_count": 34,
   "metadata": {},
   "outputs": [
    {
     "data": {
      "text/plain": [
       "'cold'"
      ]
     },
     "execution_count": 34,
     "metadata": {},
     "output_type": "execute_result"
    }
   ],
   "source": [
    "llm_result.generations[0][0].text"
   ]
  },
  {
   "cell_type": "code",
   "execution_count": 35,
   "metadata": {},
   "outputs": [],
   "source": [
    "from langchain import PromptTemplate, LLMChain"
   ]
  },
  {
   "cell_type": "code",
   "execution_count": 36,
   "metadata": {},
   "outputs": [],
   "source": [
    "template = \"\"\"\n",
    "You are an artificial intelligence assistant who will assist Hlumisa Mazomba. You are asked to answer questions. The assistant gives helpful, detailed, and polite answers to the user's questions.\n",
    "\n",
    "{question}\n",
    "\n",
    "\"\"\""
   ]
  },
  {
   "cell_type": "code",
   "execution_count": 37,
   "metadata": {},
   "outputs": [],
   "source": [
    "prompt = PromptTemplate(template=template, input_variables=[\"question\"])\n",
    "llm_chain = LLMChain(prompt=prompt, llm=llm, verbose=True)"
   ]
  },
  {
   "cell_type": "code",
   "execution_count": 38,
   "metadata": {},
   "outputs": [
    {
     "name": "stdout",
     "output_type": "stream",
     "text": [
      "\n",
      "\n",
      "\u001b[1m> Entering new LLMChain chain...\u001b[0m\n",
      "Prompt after formatting:\n",
      "\u001b[32;1m\u001b[1;3m\n",
      "You are an artificial intelligence assistant who will assist Hlumisa Mazomba. You are asked to answer questions. The assistant gives helpful, detailed, and polite answers to the user's questions.\n",
      "\n",
      "What is a quaternion?\n",
      "\n",
      "\u001b[0m\n",
      "\n",
      "\u001b[1m> Finished chain.\u001b[0m\n",
      "A quaternion is a mathematical object that combines a scalar (real number) and a vector (a set of three numbers) into a single entity. Quaternions are used in a variety of applications, including computer graphics, robotics, and physics.\n",
      "\n",
      "Quaternions were first introduced by Irish mathematician William Rowan Hamilton in 1843. They are a generalization of complex numbers, which are numbers that can be written in the form a + bi, where a and b are real numbers and i is the imaginary unit, defined such that i^2 = -1.\n",
      "\n",
      "Quaternions can be represented in a variety of ways, but the most common is as a four-element list of numbers, (w, x, y, z), where w is the scalar part and (x, y, z) is the vector part. The scalar part is the real number that represents the magnitude of the quaternion, and the vector part is the set of three numbers that represent the direction of the quaternion.\n",
      "\n",
      "Quaternions can be added, subtracted, multiplied, and divided in a similar way to complex numbers. However, there are some important differences. For example, the multiplication of two quaternions is not commutative, meaning that a * b does not always equal b * a.\n",
      "\n",
      "Quaternions are used in a variety of applications, including computer graphics, robotics, and physics. In computer graphics, quaternions are used to represent rotations. In robotics, quaternions are used to represent the orientation of a robot's end effector. In physics, quaternions are used to represent the rotation of a rigid body.\n",
      "\n",
      "Quaternions are a powerful mathematical tool that can be used to represent rotations and other complex mathematical objects. They are used in a variety of applications, and their unique properties make them well-suited for these tasks.\n"
     ]
    }
   ],
   "source": [
    "print(llm_chain.run('What is a quaternion?'))"
   ]
  },
  {
   "cell_type": "code",
   "execution_count": 39,
   "metadata": {},
   "outputs": [],
   "source": [
    "from langchain.output_parsers import StructuredOutputParser, ResponseSchema\n",
    "from langchain.prompts import PromptTemplate, ChatPromptTemplate, HumanMessagePromptTemplate"
   ]
  },
  {
   "cell_type": "code",
   "execution_count": 40,
   "metadata": {},
   "outputs": [],
   "source": [
    "response_schemas = [\n",
    "    ResponseSchema(name=\"answer\", description=\"answer to the user's question\"),\n",
    "    ResponseSchema(name=\"source\", description=\"source used to answer the user's question, should be a website.\")\n",
    "]\n",
    "output_parser = StructuredOutputParser.from_response_schemas(response_schemas)"
   ]
  },
  {
   "cell_type": "code",
   "execution_count": 41,
   "metadata": {},
   "outputs": [],
   "source": [
    "format_instructions = output_parser.get_format_instructions()\n",
    "prompt = PromptTemplate(\n",
    "    template=\"answer the users question as best as possible.\\n{format_instructions}\\n{question}\",\n",
    "    input_variables=[\"question\"],\n",
    "    partial_variables={\"format_instructions\": format_instructions}\n",
    ")"
   ]
  },
  {
   "cell_type": "code",
   "execution_count": 42,
   "metadata": {},
   "outputs": [],
   "source": [
    "model = llm"
   ]
  },
  {
   "cell_type": "code",
   "execution_count": 43,
   "metadata": {},
   "outputs": [],
   "source": [
    "_input = prompt.format_prompt(question=\"what's a quaternion?\")\n",
    "output = model(_input.to_string())"
   ]
  },
  {
   "cell_type": "code",
   "execution_count": 44,
   "metadata": {},
   "outputs": [
    {
     "data": {
      "text/plain": [
       "{'answer': 'A quaternion is a mathematical object that combines a scalar (real number) and a vector (triple of real numbers) into a single entity. Quaternions are used in computer graphics, robotics, and other applications where rotations are represented.',\n",
       " 'source': 'https://en.wikipedia.org/wiki/Quaternion'}"
      ]
     },
     "execution_count": 44,
     "metadata": {},
     "output_type": "execute_result"
    }
   ],
   "source": [
    "output_parser.parse(output)"
   ]
  },
  {
   "cell_type": "code",
   "execution_count": 45,
   "metadata": {},
   "outputs": [],
   "source": [
    "structured_output = output_parser.parse(output)"
   ]
  },
  {
   "cell_type": "code",
   "execution_count": 46,
   "metadata": {},
   "outputs": [
    {
     "name": "stdout",
     "output_type": "stream",
     "text": [
      "A quaternion is a mathematical object that combines a scalar (real number) and a vector (triple of real numbers) into a single entity. Quaternions are used in computer graphics, robotics, and other applications where rotations are represented.\n"
     ]
    }
   ],
   "source": [
    "print(structured_output[\"answer\"])"
   ]
  },
  {
   "cell_type": "code",
   "execution_count": null,
   "metadata": {},
   "outputs": [],
   "source": [
    "answer =structured_output[\"answer\"]"
   ]
  },
  {
   "cell_type": "code",
   "execution_count": 51,
   "metadata": {},
   "outputs": [
    {
     "name": "stderr",
     "output_type": "stream",
     "text": [
      "sh: 1: aplay: not found\n"
     ]
    }
   ],
   "source": [
    "# Import the module\n",
    "import pyttsx3\n",
    "\n",
    "# Create an engine object\n",
    "engine = pyttsx3.init ()\n",
    "\n",
    "# Say the text you want\n",
    "engine.say (answer)\n",
    "\n",
    "# Run and wait for the speech to finish\n",
    "engine.runAndWait ()"
   ]
  }
 ],
 "metadata": {
  "kernelspec": {
   "display_name": "run_blocker",
   "language": "python",
   "name": "python3"
  },
  "language_info": {
   "codemirror_mode": {
    "name": "ipython",
    "version": 3
   },
   "file_extension": ".py",
   "mimetype": "text/x-python",
   "name": "python",
   "nbconvert_exporter": "python",
   "pygments_lexer": "ipython3",
   "version": "3.10.13"
  }
 },
 "nbformat": 4,
 "nbformat_minor": 2
}
