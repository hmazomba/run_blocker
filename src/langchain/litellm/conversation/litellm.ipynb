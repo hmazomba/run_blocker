{
 "cells": [
  {
   "cell_type": "code",
   "execution_count": 1,
   "metadata": {},
   "outputs": [],
   "source": [
    "from langchain.chat_models import ChatLiteLLM\n",
    "from langchain.prompts.chat import (\n",
    "    ChatPromptTemplate,\n",
    "    SystemMessagePromptTemplate,\n",
    "    MessagesPlaceholder,\n",
    "    HumanMessagePromptTemplate,\n",
    ")\n",
    "from langchain.chains import LLMChain"
   ]
  },
  {
   "cell_type": "code",
   "execution_count": 2,
   "metadata": {},
   "outputs": [],
   "source": [
    "import os\n",
    "from dotenv import load_dotenv\n",
    "\n",
    "load_dotenv()\n",
    "cohere_api_key= os.getenv('COHERE_API_KEY')"
   ]
  },
  {
   "cell_type": "code",
   "execution_count": 3,
   "metadata": {},
   "outputs": [],
   "source": [
    "llm = ChatLiteLLM(model=\"command-nightly\")"
   ]
  },
  {
   "cell_type": "code",
   "execution_count": 4,
   "metadata": {},
   "outputs": [],
   "source": [
    "# Prompt \n",
    "prompt = ChatPromptTemplate(\n",
    "    messages=[\n",
    "        SystemMessagePromptTemplate.from_template(\n",
    "            \"You are a nice chatbot having a conversation with a human.\"\n",
    "        ),\n",
    "        # The `variable_name` here is what must align with memory\n",
    "        MessagesPlaceholder(variable_name=\"chat_history\"),\n",
    "        HumanMessagePromptTemplate.from_template(\"{question}\")\n",
    "    ]\n",
    ")"
   ]
  },
  {
   "cell_type": "code",
   "execution_count": 5,
   "metadata": {},
   "outputs": [],
   "source": [
    "from langchain.memory import ConversationBufferMemory\n",
    "\n",
    "memory = ConversationBufferMemory()\n",
    "#memory.chat_memory.add_user_message(\"hi!\")\n",
    "memory.chat_memory.add_ai_message(\"Hello. My name is Nosipho. I'm here to help.\")"
   ]
  },
  {
   "cell_type": "code",
   "execution_count": 6,
   "metadata": {},
   "outputs": [
    {
     "name": "stdout",
     "output_type": "stream",
     "text": [
      "\n",
      "\n",
      "\u001b[1m> Entering new LLMChain chain...\u001b[0m\n",
      "Prompt after formatting:\n",
      "\u001b[32;1m\u001b[1;3mSystem: You are a nice chatbot having a conversation with a human.\n",
      "Human: Explain the difference between object-oriented programming and functional programming\u001b[0m\n"
     ]
    },
    {
     "name": "stdout",
     "output_type": "stream",
     "text": [
      "\n",
      "\u001b[1m> Finished chain.\u001b[0m\n"
     ]
    },
    {
     "data": {
      "text/plain": [
       "{'question': 'Explain the difference between object-oriented programming and functional programming',\n",
       " 'chat_history': [HumanMessage(content='Explain the difference between object-oriented programming and functional programming', additional_kwargs={}, example=False),\n",
       "  AIMessage(content=' Object-oriented programming (OOP) and functional programming (FP) are two different programming paradigms that have distinct approaches to solving problems. Here are some key differences between the two:\\n\\n1. **Data organization**: In OOP, data and related functions are organized into objects, which are instances of classes. Objects encapsulate data and provide methods to manipulate that data. In FP, data is typically organized into data structures, and functions are treated as first-class citizens.\\n\\n2. **Encapsulation**: OOP emphasizes encapsulation, where data and related functions are hidden within objects and can only be accessed through methods. FP, on the other hand, does not emphasize encapsulation as much and often promotes a more open and modular approach to data and function organization.\\n\\n3. **Modularity**: OOP promotes modularity by dividing code into classes and objects. FP promotes modularity through functions and function composition.\\n\\n4. **Immutability**: FP often emphasizes immutability, where data is treated as immutable and cannot be modified once it is created. OOP does not have a strict requirement for immutability, but it can be achieved through careful design and implementation.\\n\\n5. **Abstraction**: OOP promotes abstraction', additional_kwargs={}, example=False)],\n",
       " 'text': ' Object-oriented programming (OOP) and functional programming (FP) are two different programming paradigms that have distinct approaches to solving problems. Here are some key differences between the two:\\n\\n1. **Data organization**: In OOP, data and related functions are organized into objects, which are instances of classes. Objects encapsulate data and provide methods to manipulate that data. In FP, data is typically organized into data structures, and functions are treated as first-class citizens.\\n\\n2. **Encapsulation**: OOP emphasizes encapsulation, where data and related functions are hidden within objects and can only be accessed through methods. FP, on the other hand, does not emphasize encapsulation as much and often promotes a more open and modular approach to data and function organization.\\n\\n3. **Modularity**: OOP promotes modularity by dividing code into classes and objects. FP promotes modularity through functions and function composition.\\n\\n4. **Immutability**: FP often emphasizes immutability, where data is treated as immutable and cannot be modified once it is created. OOP does not have a strict requirement for immutability, but it can be achieved through careful design and implementation.\\n\\n5. **Abstraction**: OOP promotes abstraction'}"
      ]
     },
     "execution_count": 6,
     "metadata": {},
     "output_type": "execute_result"
    }
   ],
   "source": [
    "# Notice that we `return_messages=True` to fit into the MessagesPlaceholder\n",
    "# Notice that `\"chat_history\"` aligns with the MessagesPlaceholder name\n",
    "memory = ConversationBufferMemory(memory_key=\"chat_history\",return_messages=True)\n",
    "conversation = LLMChain(\n",
    "    llm=llm,\n",
    "    prompt=prompt,\n",
    "    verbose=True,\n",
    "    memory=memory\n",
    ")\n",
    "\n",
    "# Notice that we just pass in the `question` variables - `chat_history` gets populated by memory\n",
    "conversation({\"question\": \"Explain the difference between object-oriented programming and functional programming\"})"
   ]
  }
 ],
 "metadata": {
  "kernelspec": {
   "display_name": "cedric",
   "language": "python",
   "name": "python3"
  },
  "language_info": {
   "codemirror_mode": {
    "name": "ipython",
    "version": 3
   },
   "file_extension": ".py",
   "mimetype": "text/x-python",
   "name": "python",
   "nbconvert_exporter": "python",
   "pygments_lexer": "ipython3",
   "version": "3.10.12"
  },
  "orig_nbformat": 4
 },
 "nbformat": 4,
 "nbformat_minor": 2
}
